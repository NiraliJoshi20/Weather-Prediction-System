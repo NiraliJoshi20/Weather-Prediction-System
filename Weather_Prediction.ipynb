{
  "nbformat": 4,
  "nbformat_minor": 0,
  "metadata": {
    "colab": {
      "provenance": []
    },
    "kernelspec": {
      "name": "python3",
      "display_name": "Python 3"
    },
    "language_info": {
      "name": "python"
    }
  },
  "cells": [
    {
      "cell_type": "markdown",
      "source": [
        "### Importing libraries and using api for fetching live data"
      ],
      "metadata": {
        "id": "QAz6GZN45_cz"
      }
    },
    {
      "cell_type": "code",
      "execution_count": 78,
      "metadata": {
        "id": "Ii8pTHbv4sch"
      },
      "outputs": [],
      "source": [
        "import requests\n",
        "import pandas as pd\n",
        "from datetime import datetime\n",
        "import os\n",
        "\n",
        "API_KEY = \"add yours"\n",
        "\n",
        "def fetch_current_weather(city):\n",
        "    url = f\"https://api.openweathermap.org/data/2.5/weather?q={city}&appid={API_KEY}&units=metric\"\n",
        "    response = requests.get(url)\n",
        "    data = response.json()\n",
        "\n",
        "    if response.status_code != 200:\n",
        "        raise Exception(data.get(\"message\", \"API call failed\"))\n",
        "\n",
        "    weather_data = {\n",
        "       'city': data['name'],\n",
        "       'current_temp': round(data['main']['temp']),\n",
        "       'feels_like': round(data['main']['feels_like']),\n",
        "       'temp_min': round(data['main']['temp_min']),\n",
        "       'temp_max': round(data['main']['temp_max']),\n",
        "       'humidity': round(data['main']['humidity']),\n",
        "       'description': data['weather'][0]['description'],\n",
        "       'country': data['sys']['country'],\n",
        "       'wind_gust_dir': data.get('wind', {}).get('deg'),\n",
        "       'pressure': data['main']['pressure'],\n",
        "       'Wind_Gust_Speed': data['wind']['speed']\n",
        "    }\n",
        "\n",
        "    return weather_data\n",
        "\n",
        "def log_weather_to_csv(data, file_path=\"weather_logs.csv\"):\n",
        "    df = pd.DataFrame([data])  # wrap data in a list to convert to DataFrame\n",
        "    if os.path.exists(file_path):\n",
        "        df.to_csv(file_path, mode='a', index=False, header=False)\n",
        "    else:\n",
        "        df.to_csv(file_path, mode='w', index=False, header=True)\n",
        "\n",
        "\n"
      ]
    },
    {
      "cell_type": "code",
      "source": [
        "if __name__ == \"__main__\":\n",
        "    city_name = \"Anand\"\n",
        "    try:\n",
        "        weather = fetch_current_weather(city_name)\n",
        "        log_weather_to_csv(weather)\n",
        "        print(\"Weather data logged successfully.\")\n",
        "    except Exception as e:\n",
        "        print(\"Error:\", e)"
      ],
      "metadata": {
        "colab": {
          "base_uri": "https://localhost:8080/"
        },
        "id": "2VTTZYo_5KtW",
        "outputId": "8d5a807c-56d2-4c46-c13c-aff62bdfcd4c"
      },
      "execution_count": 79,
      "outputs": [
        {
          "output_type": "stream",
          "name": "stdout",
          "text": [
            "Weather data logged successfully.\n"
          ]
        }
      ]
    },
    {
      "cell_type": "code",
      "source": [
        "if __name__ == \"__main__\":\n",
        "    city_name = \"Ahmedabad\"\n",
        "    try:\n",
        "        weather = fetch_current_weather(city_name)\n",
        "        log_weather_to_csv(weather)\n",
        "        print(\"Weather data logged successfully.\")\n",
        "    except Exception as e:\n",
        "        print(\"Error:\", e)"
      ],
      "metadata": {
        "colab": {
          "base_uri": "https://localhost:8080/"
        },
        "id": "nna0QfPg5K4i",
        "outputId": "8c8f2811-d484-417a-a22c-5bc445be42c6"
      },
      "execution_count": 80,
      "outputs": [
        {
          "output_type": "stream",
          "name": "stdout",
          "text": [
            "Weather data logged successfully.\n"
          ]
        }
      ]
    },
    {
      "cell_type": "code",
      "source": [
        "if __name__ == \"__main__\":\n",
        "    city_name = \"Mumbai\"\n",
        "    try:\n",
        "        weather = fetch_current_weather(city_name)\n",
        "        log_weather_to_csv(weather)\n",
        "        print(\"Weather data logged successfully.\")\n",
        "    except Exception as e:\n",
        "        print(\"Error:\", e)"
      ],
      "metadata": {
        "colab": {
          "base_uri": "https://localhost:8080/"
        },
        "id": "l-hd9Pb55UdE",
        "outputId": "3c260139-df17-4c33-9e2f-ffb9a7641309"
      },
      "execution_count": 81,
      "outputs": [
        {
          "output_type": "stream",
          "name": "stdout",
          "text": [
            "Weather data logged successfully.\n"
          ]
        }
      ]
    },
    {
      "cell_type": "code",
      "source": [
        "if __name__ == \"__main__\":\n",
        "    city_name = \"Delhi\"\n",
        "    try:\n",
        "        weather = fetch_current_weather(city_name)\n",
        "        log_weather_to_csv(weather)\n",
        "        print(\"Weather data logged successfully.\")\n",
        "    except Exception as e:\n",
        "        print(\"Error:\", e)"
      ],
      "metadata": {
        "colab": {
          "base_uri": "https://localhost:8080/"
        },
        "id": "SrG3UkU85Uf-",
        "outputId": "d6dc994f-7563-4ee1-fe92-3f637598510b"
      },
      "execution_count": 82,
      "outputs": [
        {
          "output_type": "stream",
          "name": "stdout",
          "text": [
            "Weather data logged successfully.\n"
          ]
        }
      ]
    },
    {
      "cell_type": "markdown",
      "source": [
        "### Working on Historical Dataset"
      ],
      "metadata": {
        "id": "oNeqR8u9AkNM"
      }
    },
    {
      "cell_type": "code",
      "source": [
        "import pandas as pd\n",
        "\n",
        "# Load CSVs\n",
        "df = pd.read_csv(\"/content/drive/MyDrive/Dataset/weather.csv\")"
      ],
      "metadata": {
        "id": "jGiPxB8M5UjY"
      },
      "execution_count": 83,
      "outputs": []
    },
    {
      "cell_type": "code",
      "source": [
        "print(df.shape)"
      ],
      "metadata": {
        "colab": {
          "base_uri": "https://localhost:8080/"
        },
        "id": "fE5VJV1aBqYe",
        "outputId": "a5b8f348-f172-4c8c-fbe3-012778237453"
      },
      "execution_count": 84,
      "outputs": [
        {
          "output_type": "stream",
          "name": "stdout",
          "text": [
            "(366, 8)\n"
          ]
        }
      ]
    },
    {
      "cell_type": "code",
      "source": [
        "print(df.columns)"
      ],
      "metadata": {
        "colab": {
          "base_uri": "https://localhost:8080/"
        },
        "id": "oZAyYEgU2wzu",
        "outputId": "bbdb6c59-c6d0-42b0-92b2-ccbc79379e98"
      },
      "execution_count": 85,
      "outputs": [
        {
          "output_type": "stream",
          "name": "stdout",
          "text": [
            "Index(['MinTemp', 'MaxTemp', 'WindGustDir', 'WindGustSpeed', 'Humidity',\n",
            "       'Pressure', 'Temp', 'RainTomorrow'],\n",
            "      dtype='object')\n"
          ]
        }
      ]
    },
    {
      "cell_type": "code",
      "source": [
        "print(df.head())"
      ],
      "metadata": {
        "colab": {
          "base_uri": "https://localhost:8080/"
        },
        "id": "PStvo8AA2wk2",
        "outputId": "e5767ede-7168-4ec5-8c93-582fda595759"
      },
      "execution_count": 86,
      "outputs": [
        {
          "output_type": "stream",
          "name": "stdout",
          "text": [
            "   MinTemp  MaxTemp WindGustDir  WindGustSpeed  Humidity  Pressure  Temp  \\\n",
            "0      8.0     24.3          NW           30.0        29    1015.0  23.6   \n",
            "1     14.0     26.9         ENE           39.0        36    1008.4  25.7   \n",
            "2     13.7     23.4          NW           85.0        69    1007.2  20.2   \n",
            "3     13.3     15.5          NW           54.0        56    1007.0  14.1   \n",
            "4      7.6     16.1         SSE           50.0        49    1018.5  15.4   \n",
            "\n",
            "  RainTomorrow  \n",
            "0          Yes  \n",
            "1          Yes  \n",
            "2          Yes  \n",
            "3          Yes  \n",
            "4           No  \n"
          ]
        }
      ]
    },
    {
      "cell_type": "code",
      "source": [
        "print(df.isnull().sum())"
      ],
      "metadata": {
        "colab": {
          "base_uri": "https://localhost:8080/"
        },
        "id": "HE3RbGOX3qzH",
        "outputId": "d09d9097-7abd-4672-a351-bac3f90730af"
      },
      "execution_count": 87,
      "outputs": [
        {
          "output_type": "stream",
          "name": "stdout",
          "text": [
            "MinTemp          0\n",
            "MaxTemp          0\n",
            "WindGustDir      3\n",
            "WindGustSpeed    2\n",
            "Humidity         0\n",
            "Pressure         0\n",
            "Temp             0\n",
            "RainTomorrow     0\n",
            "dtype: int64\n"
          ]
        }
      ]
    },
    {
      "cell_type": "code",
      "source": [
        "df = df.dropna()"
      ],
      "metadata": {
        "id": "UKs_NrQ64pyZ"
      },
      "execution_count": 88,
      "outputs": []
    },
    {
      "cell_type": "code",
      "source": [
        "print(df.shape)"
      ],
      "metadata": {
        "colab": {
          "base_uri": "https://localhost:8080/"
        },
        "id": "R2Fu8HaBEvrq",
        "outputId": "08ef71df-1543-4d6d-c8be-1a708daee4c3"
      },
      "execution_count": 89,
      "outputs": [
        {
          "output_type": "stream",
          "name": "stdout",
          "text": [
            "(363, 8)\n"
          ]
        }
      ]
    },
    {
      "cell_type": "markdown",
      "source": [
        "## Prepare data for training"
      ],
      "metadata": {
        "id": "NqMi0HbGFARl"
      }
    },
    {
      "cell_type": "code",
      "source": [
        "from sklearn.preprocessing import LabelEncoder\n",
        "from sklearn.ensemble import RandomForestRegressor, RandomForestClassifier\n",
        "from sklearn.metrics import mean_squared_error\n",
        "from sklearn.model_selection import train_test_split"
      ],
      "metadata": {
        "id": "JKSVL72rGr2v"
      },
      "execution_count": 90,
      "outputs": []
    },
    {
      "cell_type": "code",
      "source": [
        "def prepare_data(data):\n",
        "  le = LabelEncoder()\n",
        "  data['WindGustDir'] = le.fit_transform(data['WindGustDir'])\n",
        "  data['RainTomorrow'] = le.fit_transform(data['RainTomorrow'])\n",
        "\n",
        "  X = data[['MinTemp', 'MaxTemp', 'WindGustDir', 'WindGustSpeed', 'Humidity', 'Pressure', 'Temp']]\n",
        "  y = data['RainTomorrow']\n",
        "\n",
        "  return X, y, le"
      ],
      "metadata": {
        "id": "pSk0dqNAIYRj"
      },
      "execution_count": 91,
      "outputs": []
    },
    {
      "cell_type": "markdown",
      "source": [
        "## Training Rain Prediction Model"
      ],
      "metadata": {
        "id": "LSNjhLKeIllB"
      }
    },
    {
      "cell_type": "code",
      "source": [
        "def train_rain_model(X, y):\n",
        "  X_train, X_test, y_train, y_test = train_test_split(X, y, test_size=0.2, random_state=42)\n",
        "  model = RandomForestClassifier(n_estimators=100, random_state=42)\n",
        "  model.fit(X_train, y_train)\n",
        "\n",
        "  y_pred = model.predict(X_test)\n",
        "\n",
        "  mse = mean_squared_error(y_test, y_pred)\n",
        "  print(\"Mean Squared Error:\", mse)\n",
        "\n",
        "  return model"
      ],
      "metadata": {
        "id": "qTcfQuzgJeeQ"
      },
      "execution_count": 92,
      "outputs": []
    },
    {
      "cell_type": "markdown",
      "source": [
        "## Prepare regression data model"
      ],
      "metadata": {
        "id": "j8YYW5pwJpel"
      }
    },
    {
      "cell_type": "code",
      "source": [
        "import numpy as np\n",
        "def prepare_regression_data(data, feature):\n",
        "  X, y = [], []\n",
        "\n",
        "  for i in range(len(data) - 1):\n",
        "    X.append(data[feature].iloc[i])\n",
        "\n",
        "    y.append(data[feature].iloc[i+1])\n",
        "\n",
        "  X = np.array(X).reshape(-1, 1)\n",
        "  y = np.array(y)\n",
        "  return X, y"
      ],
      "metadata": {
        "id": "GDk63jYu4po4"
      },
      "execution_count": 93,
      "outputs": []
    },
    {
      "cell_type": "markdown",
      "source": [
        "## Train Regression Model"
      ],
      "metadata": {
        "id": "6zRj-feNXvJl"
      }
    },
    {
      "cell_type": "code",
      "source": [
        "def train_regression_model(X, y):\n",
        "  model = RandomForestRegressor(n_estimators=100, random_state=42)\n",
        "  model.fit(X, y)\n",
        "  return model"
      ],
      "metadata": {
        "id": "W9A6IGa28WMq"
      },
      "execution_count": 94,
      "outputs": []
    },
    {
      "cell_type": "markdown",
      "source": [
        "## Predict"
      ],
      "metadata": {
        "id": "PTOcEiYKYZHw"
      }
    },
    {
      "cell_type": "code",
      "source": [
        "def predict_future(model, current_value):\n",
        "  predictions = [current_value]\n",
        "\n",
        "  for i in range(5):\n",
        "    next_value = model.predict(np.array([[predictions[-1]]]))\n",
        "\n",
        "    predictions.append(next_value[0])\n",
        "\n",
        "  return predictions[1:]\n"
      ],
      "metadata": {
        "id": "sN-PQ8g64pX-"
      },
      "execution_count": 95,
      "outputs": []
    },
    {
      "cell_type": "markdown",
      "source": [
        "## Weather Analysis Function"
      ],
      "metadata": {
        "id": "nSt4ywzPZQsk"
      }
    },
    {
      "cell_type": "code",
      "source": [
        "import pytz\n",
        "from datetime import datetime, timedelta\n",
        "def weather_view():\n",
        "  city = input(\"Enter any city name: \")\n",
        "  current_weather = fetch_current_weather(city)\n",
        "\n",
        "  historical_data = df\n",
        "\n",
        "  X, y, le = prepare_data(historical_data)\n",
        "\n",
        "  rain_model = train_rain_model(X, y)\n",
        "\n",
        "  #map wind direction to compass points\n",
        "  wind_dog = current_weather['wind_gust_dir'] % 360\n",
        "\n",
        "  compass_points = [\n",
        "    (\"N\", 0, 11.25), (\"NNE\", 11.25, 33.75), (\"NE\", 33.75, 56.25),\n",
        "    (\"ENE\", 56.25, 78.75), (\"E\", 78.75, 101.25), (\"ESE\", 101.25, 123.75),\n",
        "    (\"SE\", 123.75, 146.25), (\"SSE\", 146.25, 168.75), (\"S\", 168.75, 191.25),\n",
        "    (\"SSW\", 191.25, 213.75), (\"SW\", 213.75, 236.25), (\"WSW\", 236.25, 258.75),\n",
        "    (\"W\", 258.75, 281.25), (\"WNW\", 281.25, 303.75), (\"NW\", 303.75, 326.25),\n",
        "    (\"NNW\", 326.25, 348.75)\n",
        "]\n",
        "\n",
        "# Find compass direction based on wind degree\n",
        "  compass_direction = next(point for point, start, end in compass_points if start <= wind_dog < end)\n",
        "\n",
        "# Encode the compass direction if it exists in label encoder classes\n",
        "  compass_direction_encoded = le.transform([compass_direction])[0] if compass_direction in le.classes_ else -1\n",
        "\n",
        "# Prepare the current data dictionary\n",
        "  current_data = {\n",
        "    'MinTemp': current_weather['temp_min'],\n",
        "    'MaxTemp': current_weather['temp_max'],\n",
        "    'WindGustDir': compass_direction_encoded,\n",
        "    'WindGustSpeed': current_weather['Wind_Gust_Speed'],\n",
        "    'Humidity': current_weather['humidity'],\n",
        "    'Pressure': current_weather['pressure'],\n",
        "    'Temp': current_weather['current_temp']\n",
        "}\n",
        "\n",
        "  current_df = pd.DataFrame([current_data])\n",
        "\n",
        "  rain_prediction = rain_model.predict(current_df)[0]\n",
        "\n",
        "  X_temp, y_temp = prepare_regression_data(historical_data, 'Temp')\n",
        "\n",
        "  X_hum, y_hum = prepare_regression_data(historical_data, 'Humidity')\n",
        "\n",
        "  temp_model = train_regression_model(X_temp, y_temp)\n",
        "  hum_model = train_regression_model(X_hum, y_hum)\n",
        "\n",
        "  #predict future temperature and humidity\n",
        "  future_temp = predict_future(temp_model, current_weather['temp_min'])\n",
        "  future_hum = predict_future(hum_model, current_weather['humidity'])\n",
        "\n",
        "  #Prepare time for future prediction\n",
        "\n",
        "  timezone = pytz.timezone('Asia/Kolkata')\n",
        "  now = datetime.now(timezone)\n",
        "  next_hour = now + timedelta(hours=1)\n",
        "  next_hour = next_hour.replace(minute=0, second=0, microsecond=0)\n",
        "\n",
        "  future_times = [(next_hour + timedelta(hours=i)).strftime(\"%H:00\") for i in range(5)]\n",
        "\n",
        "  #Display results\n",
        "\n",
        "  print(f\"City: {city}, {current_weather['country']}\")\n",
        "  print(f\"Current Temperature: {current_weather['current_temp']}\")\n",
        "  print(f\"Rain Prediction: {'Yes' if rain_prediction else 'No'}\")\n",
        "\n",
        "  print(\"\\nFuture Temperatures Predictions:\")\n",
        "  for time, temp in zip(future_times, future_temp):\n",
        "    print(f\"{time}: {temp}\")\n",
        "\n",
        "  print(\"\\nFuture Humidity Predictions:\")\n",
        "  for time, humidity in zip(future_times, future_hum):\n",
        "    print(f\"{time}: {humidity}\")\n",
        "\n",
        "weather_view()"
      ],
      "metadata": {
        "colab": {
          "base_uri": "https://localhost:8080/"
        },
        "id": "duSBs8mV8ZYL",
        "outputId": "27300ae4-f135-4607-fd3a-6a7edf4e6fc6"
      },
      "execution_count": 101,
      "outputs": [
        {
          "output_type": "stream",
          "name": "stdout",
          "text": [
            "Enter any city name: Anand\n",
            "Mean Squared Error: 0.1506849315068493\n",
            "City: Anand, IN\n",
            "Current Temperature: 43\n",
            "Rain Prediction: No\n",
            "\n",
            "Future Temperatures Predictions:\n",
            "17:00: 33.082\n",
            "18:00: 25.123766666666675\n",
            "19:00: 20.133823809523825\n",
            "20:00: 16.619112698412685\n",
            "21:00: 14.354054761904758\n",
            "\n",
            "Future Humidity Predictions:\n",
            "17:00: 19.87093990323402\n",
            "18:00: 19.87093990323402\n",
            "19:00: 19.87093990323402\n",
            "20:00: 19.87093990323402\n",
            "21:00: 19.87093990323402\n"
          ]
        }
      ]
    },
    {
      "cell_type": "code",
      "source": [],
      "metadata": {
        "id": "N1vv7AYY8ZGu"
      },
      "execution_count": null,
      "outputs": []
    }
  ]
}
